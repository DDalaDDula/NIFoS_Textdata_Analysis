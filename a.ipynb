{
 "cells": [
  {
   "cell_type": "code",
   "execution_count": 1,
   "metadata": {},
   "outputs": [],
   "source": [
    "import pandas as pd"
   ]
  },
  {
   "cell_type": "code",
   "execution_count": 7,
   "metadata": {},
   "outputs": [
    {
     "data": {
      "text/html": [
       "<div>\n",
       "<style scoped>\n",
       "    .dataframe tbody tr th:only-of-type {\n",
       "        vertical-align: middle;\n",
       "    }\n",
       "\n",
       "    .dataframe tbody tr th {\n",
       "        vertical-align: top;\n",
       "    }\n",
       "\n",
       "    .dataframe thead th {\n",
       "        text-align: right;\n",
       "    }\n",
       "</style>\n",
       "<table border=\"1\" class=\"dataframe\">\n",
       "  <thead>\n",
       "    <tr style=\"text-align: right;\">\n",
       "      <th></th>\n",
       "      <th>index</th>\n",
       "      <th>morphs</th>\n",
       "    </tr>\n",
       "  </thead>\n",
       "  <tbody>\n",
       "    <tr>\n",
       "      <th>0</th>\n",
       "      <td>0</td>\n",
       "      <td>길 우리 나라 기웃기웃 공지 목록 공지 글 글 제목 작성 일 59 공지 인 플루 언...</td>\n",
       "    </tr>\n",
       "    <tr>\n",
       "      <th>1</th>\n",
       "      <td>1</td>\n",
       "      <td>검다 호랑이 의 해 임인년 새해 가 밝다 임인년 새해 첫날 을 맞다 황매산 군 립 ...</td>\n",
       "    </tr>\n",
       "    <tr>\n",
       "      <th>2</th>\n",
       "      <td>2</td>\n",
       "      <td>31일 날 블로그 써다 다짐 하다 귀찮다 결국 못 적다 지난 달 에는 거의 크리스마...</td>\n",
       "    </tr>\n",
       "    <tr>\n",
       "      <th>3</th>\n",
       "      <td>3</td>\n",
       "      <td>하늘 을 보다 라는 송 동호 님 의 책 을 읽다 ㅡㅡㅡ 이 책 엔 잠깐 뒤 적 이며...</td>\n",
       "    </tr>\n",
       "    <tr>\n",
       "      <th>4</th>\n",
       "      <td>4</td>\n",
       "      <td>널 용서 하다 못 하다 죽지 마 오랜 만 에 읽다 동양 판타지 소설 나 는 동양 풍...</td>\n",
       "    </tr>\n",
       "    <tr>\n",
       "      <th>...</th>\n",
       "      <td>...</td>\n",
       "      <td>...</td>\n",
       "    </tr>\n",
       "    <tr>\n",
       "      <th>3374</th>\n",
       "      <td>3374</td>\n",
       "      <td>2022년 1월 1일 을 맞이 하다 들다 노래 네이버 충성 귤답 게 바이브 로 들다...</td>\n",
       "    </tr>\n",
       "    <tr>\n",
       "      <th>3375</th>\n",
       "      <td>3375</td>\n",
       "      <td>사랑 이 뭐 든 걸 해결 해주다 않다 돈 이 있다 뭐 든지 하다 수 있다 모르다 라...</td>\n",
       "    </tr>\n",
       "    <tr>\n",
       "      <th>3376</th>\n",
       "      <td>3376</td>\n",
       "      <td>힐스테이트 몬테 로이 아파트 는 수도권 정비 계획 법 의하다 자연 보전 권 역 이다...</td>\n",
       "    </tr>\n",
       "    <tr>\n",
       "      <th>3377</th>\n",
       "      <td>3377</td>\n",
       "      <td>안녕하다 정해민 법무사 이다 차다 명함 도 다 써다 새롭다 만들다 야하다 디자인 바...</td>\n",
       "    </tr>\n",
       "    <tr>\n",
       "      <th>3378</th>\n",
       "      <td>3378</td>\n",
       "      <td>설 연휴 를 맞다 할머니 댁 에 내려가다 전 에 아빠 랑 같이 1 박 2일 여행 을...</td>\n",
       "    </tr>\n",
       "  </tbody>\n",
       "</table>\n",
       "<p>3379 rows × 2 columns</p>\n",
       "</div>"
      ],
      "text/plain": [
       "      index                                             morphs\n",
       "0         0  길 우리 나라 기웃기웃 공지 목록 공지 글 글 제목 작성 일 59 공지 인 플루 언...\n",
       "1         1  검다 호랑이 의 해 임인년 새해 가 밝다 임인년 새해 첫날 을 맞다 황매산 군 립 ...\n",
       "2         2  31일 날 블로그 써다 다짐 하다 귀찮다 결국 못 적다 지난 달 에는 거의 크리스마...\n",
       "3         3  하늘 을 보다 라는 송 동호 님 의 책 을 읽다 ㅡㅡㅡ 이 책 엔 잠깐 뒤 적 이며...\n",
       "4         4  널 용서 하다 못 하다 죽지 마 오랜 만 에 읽다 동양 판타지 소설 나 는 동양 풍...\n",
       "...     ...                                                ...\n",
       "3374   3374  2022년 1월 1일 을 맞이 하다 들다 노래 네이버 충성 귤답 게 바이브 로 들다...\n",
       "3375   3375  사랑 이 뭐 든 걸 해결 해주다 않다 돈 이 있다 뭐 든지 하다 수 있다 모르다 라...\n",
       "3376   3376  힐스테이트 몬테 로이 아파트 는 수도권 정비 계획 법 의하다 자연 보전 권 역 이다...\n",
       "3377   3377  안녕하다 정해민 법무사 이다 차다 명함 도 다 써다 새롭다 만들다 야하다 디자인 바...\n",
       "3378   3378  설 연휴 를 맞다 할머니 댁 에 내려가다 전 에 아빠 랑 같이 1 박 2일 여행 을...\n",
       "\n",
       "[3379 rows x 2 columns]"
      ]
     },
     "execution_count": 7,
     "metadata": {},
     "output_type": "execute_result"
    }
   ],
   "source": [
    "a.reset_index()"
   ]
  },
  {
   "cell_type": "code",
   "execution_count": 9,
   "metadata": {},
   "outputs": [],
   "source": [
    "for i in range(1,13):\n",
    "    df = pd.read_csv('산문화/산+문화_2022_%s월_형태소.csv'%i)\n",
    "    df.index.name = 'org_idx'\n",
    "    df.reset_index()\n",
    "    df_2 = df.reset_index()\n",
    "    df_2.to_csv('산문화/산+문화_2022_%s월_형태소.csv'%i, index=False)"
   ]
  }
 ],
 "metadata": {
  "kernelspec": {
   "display_name": "NIFOS",
   "language": "python",
   "name": "python3"
  },
  "language_info": {
   "codemirror_mode": {
    "name": "ipython",
    "version": 3
   },
   "file_extension": ".py",
   "mimetype": "text/x-python",
   "name": "python",
   "nbconvert_exporter": "python",
   "pygments_lexer": "ipython3",
   "version": "3.11.3"
  },
  "orig_nbformat": 4
 },
 "nbformat": 4,
 "nbformat_minor": 2
}
