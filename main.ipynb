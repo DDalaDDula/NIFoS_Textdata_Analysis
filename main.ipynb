{
 "cells": [
  {
   "attachments": {},
   "cell_type": "markdown",
   "metadata": {},
   "source": [
    "## Textdata anlaysis 실행파일"
   ]
  },
  {
   "cell_type": "code",
   "execution_count": 1,
   "metadata": {},
   "outputs": [],
   "source": [
    "from textanal import contents_clean, contents_separation, distribution\n",
    "from textanal.morphanal import analyze_corpus\n",
    "from textanal.TFIDF import TF_IDF\n",
    "from textanal.cooccurence import coocur\n",
    "import pandas as pd\n",
    "from tqdm import tqdm\n",
    "import pickle"
   ]
  },
  {
   "attachments": {},
   "cell_type": "markdown",
   "metadata": {},
   "source": [
    "### Text 전처리"
   ]
  },
  {
   "cell_type": "code",
   "execution_count": 2,
   "metadata": {},
   "outputs": [],
   "source": [
    "df = pd.read_csv(\"a.csv\")\n",
    "df['clean'] = df['본문'].apply(lambda x : contents_clean(x)) # 불용어 제거 함수\n",
    "df['sep'] = df['clean'].apply(lambda x : contents_separation(x)) # contents를 sentence 단위로 분할하는 함수"
   ]
  },
  {
   "cell_type": "code",
   "execution_count": null,
   "metadata": {},
   "outputs": [],
   "source": [
    "df2 = pd.DataFrame(columns = ['str', 'idx']) # dataframe 만들어 문장 분리 실행\n",
    "for idx, lst in tqdm(enumerate(df['sep'].tolist())):\n",
    "    split_df= distribution(idx,lst) # sentence 단위로 분할해서 데이터 프레임으로 변환하는 함수\n",
    "    df2 = pd.concat([df2,split_df])\n",
    "else:\n",
    "    # 정상적으로 완료될 경우 결측치 제거, 인덱스 초기화 진행.\n",
    "    df2.dropna(axis=0, inplace=True)\n",
    "    df2.reset_index(drop=True, inplace=True)\n",
    "df2 # 분리된 문장을 담은 dataframe 출력"
   ]
  },
  {
   "attachments": {},
   "cell_type": "markdown",
   "metadata": {},
   "source": [
    "### 피클저장(나중에 지워야함)"
   ]
  },
  {
   "cell_type": "code",
   "execution_count": 8,
   "metadata": {},
   "outputs": [],
   "source": [
    "# 데이터프레임을 피클 파일로 저장\n",
    "with open('b.pkl', 'wb') as file:\n",
    "    pickle.dump(df2, file)"
   ]
  },
  {
   "cell_type": "code",
   "execution_count": null,
   "metadata": {},
   "outputs": [],
   "source": [
    "# 저장된 피클 파일을 불러오기\n",
    "with open('b.pkl', 'rb') as file:\n",
    "    df2 = pickle.load(file)\n",
    "df2"
   ]
  },
  {
   "attachments": {},
   "cell_type": "markdown",
   "metadata": {},
   "source": [
    "### 형태소 분석"
   ]
  },
  {
   "cell_type": "code",
   "execution_count": null,
   "metadata": {},
   "outputs": [],
   "source": [
    "# 명사, 동사, 형용서, 조사 빈도 데이터프레임들과 형태소 단위로 나눈 데이터프레임을 반환\n",
    "noun_df, verb_df, adj_df, josa_df, morph_df = analyze_corpus(df2)"
   ]
  },
  {
   "attachments": {},
   "cell_type": "markdown",
   "metadata": {},
   "source": [
    "### TF-IDF(단어 빈도-역 문서 빈도, Term Frequency-Inverse Document Frequency) 출력"
   ]
  },
  {
   "cell_type": "code",
   "execution_count": 4,
   "metadata": {},
   "outputs": [],
   "source": [
    "# TF-IDF 결과값 반환. only_kor=True일때는 한글로만 이루어진 TF-IDF데이터프레임 반환\n",
    "word_count, tfidf_DF = TF_IDF(morph_df, josa_df, only_kor=True)"
   ]
  },
  {
   "attachments": {},
   "cell_type": "markdown",
   "metadata": {},
   "source": [
    "### 단어동시출현행렬(co-occurence matrix) 출력"
   ]
  },
  {
   "cell_type": "code",
   "execution_count": null,
   "metadata": {},
   "outputs": [],
   "source": [
    "# 단어동시출현행렬 = 원본 dataframe, 상위50단어 dataframe, 공출현빈도행렬(1-mode matrix) 순으로 출력\n",
    "freq_df2, freq_df3, word_co_matx = coocur(morph_df, noun_df)"
   ]
  }
 ],
 "metadata": {
  "kernelspec": {
   "display_name": "Python 3.8.0 ('NIFS')",
   "language": "python",
   "name": "python3"
  },
  "language_info": {
   "codemirror_mode": {
    "name": "ipython",
    "version": 3
   },
   "file_extension": ".py",
   "mimetype": "text/x-python",
   "name": "python",
   "nbconvert_exporter": "python",
   "pygments_lexer": "ipython3",
   "version": "3.8.0"
  },
  "orig_nbformat": 4,
  "vscode": {
   "interpreter": {
    "hash": "ef870b4feb386425c661b7ebcadef1c9affb03996f900964fa02bf03ee560957"
   }
  }
 },
 "nbformat": 4,
 "nbformat_minor": 2
}
