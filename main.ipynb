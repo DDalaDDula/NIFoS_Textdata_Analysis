{
 "cells": [
  {
   "attachments": {},
   "cell_type": "markdown",
   "metadata": {},
   "source": [
    "## Textdata anlaysis 실행파일"
   ]
  },
  {
   "cell_type": "code",
   "execution_count": 1,
   "metadata": {},
   "outputs": [],
   "source": [
    "from textanal import contents_clean, contents_separation, distribution\n",
    "from textanal.morphanal import analyze_corpus\n",
    "from textanal.TFIDF import TF_IDF\n",
    "from textanal.cooccurence import coocur\n",
    "import pandas as pd\n",
    "from tqdm import tqdm\n",
    "import pickle"
   ]
  },
  {
   "attachments": {},
   "cell_type": "markdown",
   "metadata": {},
   "source": [
    "### Text 전처리"
   ]
  },
  {
   "cell_type": "code",
   "execution_count": 2,
   "metadata": {},
   "outputs": [],
   "source": [
    "df = pd.read_csv(\"a.csv\")\n",
    "df['clean'] = df['본문'].apply(lambda x : contents_clean(x)) # 불용어 제거 함수\n",
    "df['sep'] = df['clean'].apply(lambda x : contents_separation(x)) # contents를 sentence 단위로 분할하는 함수"
   ]
  },
  {
   "cell_type": "code",
   "execution_count": null,
   "metadata": {},
   "outputs": [],
   "source": [
    "df2 = pd.DataFrame(columns = ['str', 'idx']) # dataframe 만들어 문장 분리 실행\n",
    "for idx, lst in tqdm(enumerate(df['sep'].tolist())):\n",
    "    split_df= distribution(idx,lst) # sentence 단위로 분할해서 데이터 프레임으로 변환하는 함수\n",
    "    df2 = pd.concat([df2,split_df])\n",
    "else:\n",
    "    # 정상적으로 완료될 경우 결측치 제거, 인덱스 초기화 진행.\n",
    "    df2.dropna(axis=0, inplace=True)\n",
    "    df2.reset_index(drop=True, inplace=True)\n",
    "df2 # 분리된 문장을 담은 dataframe 출력"
   ]
  },
  {
   "attachments": {},
   "cell_type": "markdown",
   "metadata": {},
   "source": [
    "### 피클저장(나중에 지워야함)"
   ]
  },
  {
   "cell_type": "code",
   "execution_count": 8,
   "metadata": {},
   "outputs": [],
   "source": [
    "# 데이터프레임을 피클 파일로 저장\n",
    "with open('b.pkl', 'wb') as file:\n",
    "    pickle.dump(df2, file)"
   ]
  },
  {
   "cell_type": "code",
   "execution_count": 2,
   "metadata": {},
   "outputs": [
    {
     "data": {
      "text/html": [
       "<div>\n",
       "<style scoped>\n",
       "    .dataframe tbody tr th:only-of-type {\n",
       "        vertical-align: middle;\n",
       "    }\n",
       "\n",
       "    .dataframe tbody tr th {\n",
       "        vertical-align: top;\n",
       "    }\n",
       "\n",
       "    .dataframe thead th {\n",
       "        text-align: right;\n",
       "    }\n",
       "</style>\n",
       "<table border=\"1\" class=\"dataframe\">\n",
       "  <thead>\n",
       "    <tr style=\"text-align: right;\">\n",
       "      <th></th>\n",
       "      <th>str</th>\n",
       "      <th>idx</th>\n",
       "    </tr>\n",
       "  </thead>\n",
       "  <tbody>\n",
       "    <tr>\n",
       "      <th>0</th>\n",
       "      <td>7월 개봉 예정 영화 신작 영화추천 신작 영화 추천 극장 개봉 예정 영화 7월 리부...</td>\n",
       "      <td>0</td>\n",
       "    </tr>\n",
       "    <tr>\n",
       "      <th>1</th>\n",
       "      <td>문제는 쥬라기 월드 탑건 신비한 동물사전 레전드 영화의 리부트가 연일 관객들의 기대...</td>\n",
       "      <td>0</td>\n",
       "    </tr>\n",
       "    <tr>\n",
       "      <th>2</th>\n",
       "      <td>어린 시절의 향수를 진하게 불러주는 오마주는 반갑지만 그때 느꼈던 감동과 재미는 다...</td>\n",
       "      <td>0</td>\n",
       "    </tr>\n",
       "    <tr>\n",
       "      <th>3</th>\n",
       "      <td>저야 극장에서 보는 어지간한 영화는 재밌게 보고 나오는 편입니다만 그래서 극장 관람...</td>\n",
       "      <td>0</td>\n",
       "    </tr>\n",
       "    <tr>\n",
       "      <th>4</th>\n",
       "      <td>그래서 2차 3차 가공해서 영화를 해석하고 추천하는 글을 쓰는 데는 생각이 참 많아...</td>\n",
       "      <td>0</td>\n",
       "    </tr>\n",
       "    <tr>\n",
       "      <th>...</th>\n",
       "      <td>...</td>\n",
       "      <td>...</td>\n",
       "    </tr>\n",
       "    <tr>\n",
       "      <th>2426</th>\n",
       "      <td>왜냐하면 저 위로 올라가야하는데 아이혼자 클라이밍으로 올라가서 높은 곳을 걸어야하거든요</td>\n",
       "      <td>49</td>\n",
       "    </tr>\n",
       "    <tr>\n",
       "      <th>2427</th>\n",
       "      <td>저희 아이는 1시간동안 땀이 뻘뻘 나도록 미끄럼틀을 오르내렸어요</td>\n",
       "      <td>49</td>\n",
       "    </tr>\n",
       "    <tr>\n",
       "      <th>2428</th>\n",
       "      <td>저 혹등고래 입속으로 들어가면 피노키오 인형이 있답니다</td>\n",
       "      <td>49</td>\n",
       "    </tr>\n",
       "    <tr>\n",
       "      <th>2429</th>\n",
       "      <td>두빛나래와 국립해양생물자원관은 장항에 위치해서 하루 여행 코스로 좋은 것 같아요</td>\n",
       "      <td>49</td>\n",
       "    </tr>\n",
       "    <tr>\n",
       "      <th>2430</th>\n",
       "      <td>역사 문화 해양 생물 등 즐거운 체험과 학습을 할 수 있는 유익한 두 곳 꼭 방문드...</td>\n",
       "      <td>49</td>\n",
       "    </tr>\n",
       "  </tbody>\n",
       "</table>\n",
       "<p>2431 rows × 2 columns</p>\n",
       "</div>"
      ],
      "text/plain": [
       "                                                    str idx\n",
       "0     7월 개봉 예정 영화 신작 영화추천 신작 영화 추천 극장 개봉 예정 영화 7월 리부...   0\n",
       "1     문제는 쥬라기 월드 탑건 신비한 동물사전 레전드 영화의 리부트가 연일 관객들의 기대...   0\n",
       "2     어린 시절의 향수를 진하게 불러주는 오마주는 반갑지만 그때 느꼈던 감동과 재미는 다...   0\n",
       "3     저야 극장에서 보는 어지간한 영화는 재밌게 보고 나오는 편입니다만 그래서 극장 관람...   0\n",
       "4     그래서 2차 3차 가공해서 영화를 해석하고 추천하는 글을 쓰는 데는 생각이 참 많아...   0\n",
       "...                                                 ...  ..\n",
       "2426   왜냐하면 저 위로 올라가야하는데 아이혼자 클라이밍으로 올라가서 높은 곳을 걸어야하거든요  49\n",
       "2427                저희 아이는 1시간동안 땀이 뻘뻘 나도록 미끄럼틀을 오르내렸어요  49\n",
       "2428                     저 혹등고래 입속으로 들어가면 피노키오 인형이 있답니다  49\n",
       "2429       두빛나래와 국립해양생물자원관은 장항에 위치해서 하루 여행 코스로 좋은 것 같아요  49\n",
       "2430  역사 문화 해양 생물 등 즐거운 체험과 학습을 할 수 있는 유익한 두 곳 꼭 방문드...  49\n",
       "\n",
       "[2431 rows x 2 columns]"
      ]
     },
     "execution_count": 2,
     "metadata": {},
     "output_type": "execute_result"
    }
   ],
   "source": [
    "# 저장된 피클 파일을 불러오기\n",
    "with open('b.pkl', 'rb') as file:\n",
    "    df2 = pickle.load(file)\n",
    "df2"
   ]
  },
  {
   "attachments": {},
   "cell_type": "markdown",
   "metadata": {},
   "source": [
    "### 형태소 분석"
   ]
  },
  {
   "cell_type": "code",
   "execution_count": null,
   "metadata": {},
   "outputs": [],
   "source": [
    "# 명사, 동사, 형용서, 조사 빈도 데이터프레임들과 형태소 단위로 나눈 데이터프레임을 반환\n",
    "noun_df, verb_df, adj_df, josa_df, morph_df = analyze_corpus(df2)"
   ]
  },
  {
   "attachments": {},
   "cell_type": "markdown",
   "metadata": {},
   "source": [
    "### TF-IDF(단어 빈도-역 문서 빈도, Term Frequency-Inverse Document Frequency) 출력"
   ]
  },
  {
   "cell_type": "code",
   "execution_count": 4,
   "metadata": {},
   "outputs": [],
   "source": [
    "# TF-IDF 결과값 반환. only_kor=True일때는 한글로만 이루어진 TF-IDF데이터프레임 반환\n",
    "word_count, tfidf_DF = TF_IDF(morph_df, josa_df, only_kor=True)"
   ]
  },
  {
   "cell_type": "code",
   "execution_count": 11,
   "metadata": {},
   "outputs": [],
   "source": [
    "morph_df = pd.read_csv('나무문화_본문to형태소.csv')\n",
    "noun_df = pd.read_csv('나무문화_단어빈도_50위.csv')\n",
    "noun_df.columns = ['noun', '빈도']"
   ]
  },
  {
   "attachments": {},
   "cell_type": "markdown",
   "metadata": {},
   "source": [
    "### 단어동시출현행렬(co-occurence matrix) 출력"
   ]
  },
  {
   "cell_type": "code",
   "execution_count": null,
   "metadata": {},
   "outputs": [],
   "source": [
    "# 단어동시출현행렬 = 원본 dataframe, 상위50단어 dataframe, 공출현빈도행렬(1-mode matrix) 순으로 출력\n",
    "freq_df2, freq_df3, word_co_matx = coocur(morph_df, noun_df)"
   ]
  },
  {
   "cell_type": "code",
   "execution_count": 10,
   "metadata": {},
   "outputs": [],
   "source": [
    "freq_df2.to_csv('한준규/산림문화_dict형식컬럼명지정.csv')\n",
    "freq_df3.to_csv('한준규/산림문화_상위50단어_단어쌍.csv')\n",
    "word_co_matx.to_csv('한준규/산림문화_공출현빈도행렬.csv')"
   ]
  },
  {
   "cell_type": "code",
   "execution_count": 9,
   "metadata": {},
   "outputs": [],
   "source": [
    "# 데이터프레임을 피클 파일로 저장\n",
    "with open('e.pkl', 'wb') as file:\n",
    "    pickle.dump(word_co_matx, file)"
   ]
  }
 ],
 "metadata": {
  "kernelspec": {
   "display_name": "Python 3.8.0 ('NIFS')",
   "language": "python",
   "name": "python3"
  },
  "language_info": {
   "codemirror_mode": {
    "name": "ipython",
    "version": 3
   },
   "file_extension": ".py",
   "mimetype": "text/x-python",
   "name": "python",
   "nbconvert_exporter": "python",
   "pygments_lexer": "ipython3",
   "version": "3.7.16"
  },
  "orig_nbformat": 4,
  "vscode": {
   "interpreter": {
    "hash": "ef870b4feb386425c661b7ebcadef1c9affb03996f900964fa02bf03ee560957"
   }
  }
 },
 "nbformat": 4,
 "nbformat_minor": 2
}
